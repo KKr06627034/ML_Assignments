{
 "cells": [
  {
   "cell_type": "markdown",
   "metadata": {},
   "source": [
    "# Task 1"
   ]
  },
  {
   "cell_type": "markdown",
   "metadata": {},
   "source": [
    "1.1 Write a Python Program to implement your own myreduce() function which works exactly like Python's built-in function reduce()"
   ]
  },
  {
   "cell_type": "code",
   "execution_count": 4,
   "metadata": {},
   "outputs": [],
   "source": [
    "# Reduce will produce a single result\n",
    "def myreduce(func, alist):\n",
    "    # Get first item in alist and assign to result\n",
    "    result = alist[0]\n",
    "    # Iterate over remaining items in alist and apply reduction function\n",
    "    for item in alist[1:]:\n",
    "        result = func(result, item)\n",
    "    return result"
   ]
  },
  {
   "cell_type": "code",
   "execution_count": 5,
   "metadata": {},
   "outputs": [],
   "source": [
    "# Test the myreduce function\n",
    "# Example: Find the maximum of a sequence\n",
    "max_find = lambda a,b: a if (a > b) else b\n",
    "lst =[25, 15, 10, 5, 1, 35, 45, 65, 60]"
   ]
  },
  {
   "cell_type": "code",
   "execution_count": 7,
   "metadata": {},
   "outputs": [
    {
     "data": {
      "text/plain": [
       "65"
      ]
     },
     "execution_count": 7,
     "metadata": {},
     "output_type": "execute_result"
    }
   ],
   "source": [
    "#Find max\n",
    "myreduce(max_find,lst)"
   ]
  },
  {
   "cell_type": "markdown",
   "metadata": {},
   "source": [
    "1.2 Write a Python program to implement your own myfilter() function which works exactly like Python's built-in function filter()"
   ]
  },
  {
   "cell_type": "code",
   "execution_count": 31,
   "metadata": {},
   "outputs": [],
   "source": [
    "def myfilter(func, mylist):\n",
    "    # Initialize an empty list\n",
    "    output = []\n",
    "    # Interate over sequence of items in mylist and apply filter function\n",
    "    for item in mylist:\n",
    "        if func(item):\n",
    "            output.append(item)\n",
    "    return output        "
   ]
  },
  {
   "cell_type": "code",
   "execution_count": 39,
   "metadata": {},
   "outputs": [],
   "source": [
    "# Test the myfilter function\n",
    "# Example: Create a function and expect to return odd numbers from lst\n",
    "def odd_check(num):\n",
    "    if num%2 == 1:\n",
    "        return True"
   ]
  },
  {
   "cell_type": "code",
   "execution_count": 40,
   "metadata": {},
   "outputs": [
    {
     "data": {
      "text/plain": [
       "[1, 3, 5, 7]"
      ]
     },
     "execution_count": 40,
     "metadata": {},
     "output_type": "execute_result"
    }
   ],
   "source": [
    "lst =[1,2,3,4,5,6,7,8]\n",
    "list(myfilter(odd_check,lst))"
   ]
  },
  {
   "cell_type": "markdown",
   "metadata": {},
   "source": [
    "2. Implement List comprehensions to produce the following lists."
   ]
  },
  {
   "cell_type": "code",
   "execution_count": 242,
   "metadata": {},
   "outputs": [
    {
     "name": "stdout",
     "output_type": "stream",
     "text": [
      "['A', 'C', 'A', 'D', 'G', 'I', 'L', 'D']\n"
     ]
    }
   ],
   "source": [
    "lst1 = \"ACADGILD\"\n",
    "list1 = [list1 for list1 in lst1]\n",
    "print(str(list1))"
   ]
  },
  {
   "cell_type": "code",
   "execution_count": 16,
   "metadata": {},
   "outputs": [
    {
     "name": "stdout",
     "output_type": "stream",
     "text": [
      "['x', 'xx', 'xxx', 'xxxx', 'y', 'yy', 'yyy', 'yyyy', '\\x1b[1mz\\x1b[0m', '\\x1b[1mzz\\x1b[0m', '\\x1b[1mzzz\\x1b[0m', '\\x1b[1mzzzz\\x1b[0m']\n"
     ]
    }
   ],
   "source": [
    "#BOLD = '\\033[1m'\n",
    "#END = '\\033[0m'\n",
    "\n",
    "#lst2 = ['x','y']\n",
    "#lst21 = ['z']\n",
    "#list2 = [item*num for item in lst2 for num in range(1,5)]\n",
    "#list21 = [i*n for i in lst21 for n in range(1,5)]\n",
    "#list22 = ['{}{}{}'.format(BOLD,l,END) for l in list21]\n",
    "\n",
    "#print(list2+list22)"
   ]
  },
  {
   "cell_type": "code",
   "execution_count": 9,
   "metadata": {},
   "outputs": [
    {
     "name": "stdout",
     "output_type": "stream",
     "text": [
      "['x', 'xx', 'xxx', 'xxxx', 'y', 'yy', 'yyy', 'yyyy', 'z', 'zz', 'zzz', 'zzzz']\n"
     ]
    }
   ],
   "source": [
    "lst2 = ['x','y','z']\n",
    "list2 = [item*num for item in lst2 for num in range(1,5)]\n",
    "\n",
    "print(list2)"
   ]
  },
  {
   "cell_type": "code",
   "execution_count": 14,
   "metadata": {},
   "outputs": [
    {
     "name": "stdout",
     "output_type": "stream",
     "text": [
      "['x', 'y', 'z', 'xx', 'yy', 'zz', 'xxx', 'yyy', 'zzz', 'xxxx', 'yyyy', 'zzzz']\n"
     ]
    }
   ],
   "source": [
    "#BOLD = '\\033[1m'\n",
    "#END = '\\033[0m'\n",
    "\n",
    "#lst3 = ['x','y','z'.format(BOLD,lst3[2],END)]\n",
    "#list3 = [item*num for num in range(1,5) for item in lst3]\n",
    "\n",
    "#print(list3)"
   ]
  },
  {
   "cell_type": "code",
   "execution_count": 8,
   "metadata": {},
   "outputs": [
    {
     "name": "stdout",
     "output_type": "stream",
     "text": [
      "['x', 'y', 'z', 'xx', 'yy', 'zz', 'xxx', 'yyy', 'zzz', 'xxxx', 'yyyy', 'zzzz']\n"
     ]
    }
   ],
   "source": [
    "lst3 = ['x','y','z']\n",
    "list3 = [item*num for num in range(1,5) for item in lst3]\n",
    "\n",
    "print(list3)"
   ]
  },
  {
   "cell_type": "code",
   "execution_count": 265,
   "metadata": {},
   "outputs": [
    {
     "name": "stdout",
     "output_type": "stream",
     "text": [
      "[[2], [3], [4], [3], [4], [5], [4], [5], [6]]\n"
     ]
    }
   ],
   "source": [
    "lst4 = [2,3,4]\n",
    "list4= [[item+num] for item in lst4 for num in range(0,3)]\n",
    "\n",
    "print(list4)"
   ]
  },
  {
   "cell_type": "code",
   "execution_count": 266,
   "metadata": {},
   "outputs": [
    {
     "name": "stdout",
     "output_type": "stream",
     "text": [
      "[[2, 3, 4, 5], [3, 4, 5, 6], [4, 5, 6, 7], [5, 6, 7, 8]]\n"
     ]
    }
   ],
   "source": [
    "lst5 = [2,3,4,5]\n",
    "list5 =[[item+num for item in lst5] for num in range (0,4)]\n",
    "\n",
    "print(list5)"
   ]
  },
  {
   "cell_type": "code",
   "execution_count": 267,
   "metadata": {},
   "outputs": [
    {
     "name": "stdout",
     "output_type": "stream",
     "text": [
      "[(1, 1), (2, 1), (3, 1), (1, 2), (2, 2), (3, 2), (1, 3), (2, 3), (3, 3)]\n"
     ]
    }
   ],
   "source": [
    "lst6 = [1,2,3]\n",
    "list6 = [(b,a) for a in lst6 for b in lst6]\n",
    "\n",
    "print(list6)"
   ]
  },
  {
   "cell_type": "markdown",
   "metadata": {},
   "source": [
    "3. Implement a function longestWord() that takes a list of words and returns the longest one."
   ]
  },
  {
   "cell_type": "code",
   "execution_count": 7,
   "metadata": {},
   "outputs": [
    {
     "name": "stdout",
     "output_type": "stream",
     "text": [
      "Awesome\n"
     ]
    }
   ],
   "source": [
    "words_list = ['Fun', 'Happy', 'Awesome']\n",
    "\n",
    "def longestWord(words_list):\n",
    "    word_len = []\n",
    "    for i in words_list:\n",
    "        # append values (length of i, i) to word_len\n",
    "        word_len.append((len(i),i))\n",
    "    # items in word_len were sorted in ascending order    \n",
    "    word_len.sort()\n",
    "    # return the second item in the last item of word_len eg. [(2,Hi), (5,Hello), (7,Whatsup)]\n",
    "    return word_len[-1][1]\n",
    "\n",
    "print(longestWord(words_list))\n"
   ]
  },
  {
   "cell_type": "markdown",
   "metadata": {},
   "source": [
    "# Task 2"
   ]
  },
  {
   "cell_type": "markdown",
   "metadata": {},
   "source": [
    "1.1 Write a Python Program(with class concepts) to find the area of the triangle using the below formula.\n",
    "\n",
    "area = (s*(s-a)*(s-b)*(s-c)) ** 0.5\n",
    "\n",
    "Function to take the length of the sides of triangle from user should be defined in the parent class and function to calculate the area should be defined in subclass."
   ]
  },
  {
   "cell_type": "code",
   "execution_count": 1,
   "metadata": {},
   "outputs": [
    {
     "name": "stdout",
     "output_type": "stream",
     "text": [
      "Enter the value of a = 5\n",
      "Enter the value of b = 5\n",
      "Enter the value of c = 5\n",
      "area : 10.825317547305483\n"
     ]
    }
   ],
   "source": [
    "class Triangle: \n",
    "    \n",
    "    def __init__(self, a, b, c):\n",
    "        self.a = float(a)\n",
    "        self.b = float(b)\n",
    "        self.c = float(c)\n",
    "        \n",
    "    def area(self):\n",
    "        s =(self.a + self.b + self.c)/2\n",
    "        return (s*(s-self.a)*(s-self.b)*(s-self.c))**0.5\n",
    "\n",
    "a = input('Enter the value of a = ')\n",
    "b = input('Enter the value of b = ')\n",
    "c = input('Enter the value of c = ')\n",
    "\n",
    "t = Triangle(a, b, c)\n",
    "\n",
    "print(\"area : {}\".format(t.area()))"
   ]
  },
  {
   "cell_type": "markdown",
   "metadata": {},
   "source": [
    "1.2 Write a function filter_long_words() that takes a list of words and an integer n and returns the list of words that are longer than n."
   ]
  },
  {
   "cell_type": "code",
   "execution_count": 7,
   "metadata": {},
   "outputs": [
    {
     "name": "stdout",
     "output_type": "stream",
     "text": [
      "Enter the list of words, seperated by spaces: The quick brown fox jumps over the lazy dog\n",
      "Enter an integer: 3\n",
      "Words longer than 3 are quick, brown, jumps, over, lazy.\n"
     ]
    }
   ],
   "source": [
    "def filter_long_words(wordlist, n):\n",
    "    return (word for word in wordlist if len(word) > n)\n",
    "\n",
    "words = input('Enter the list of words, seperated by spaces: ').split()\n",
    "n = int(input('Enter an integer: '))\n",
    "\n",
    "print(\"Words longer than {} are {}.\".format(n,', '.join(filter_long_words(words, n))))"
   ]
  },
  {
   "cell_type": "markdown",
   "metadata": {},
   "source": [
    "2.1 Write a Python program using function concept that maps list of words into a list of integers representing the lengths of the corresponding words ."
   ]
  },
  {
   "cell_type": "code",
   "execution_count": 10,
   "metadata": {},
   "outputs": [
    {
     "name": "stdout",
     "output_type": "stream",
     "text": [
      "[2, 3, 4]\n"
     ]
    }
   ],
   "source": [
    "words = ['ab','cde','erty']\n",
    "\n",
    "def map_to_lengths_for(words):\n",
    "    lengths = []\n",
    "    for word in words:\n",
    "        lengths.append(len(word))\n",
    "    return lengths\n",
    "\n",
    "print (map_to_lengths_for(words))"
   ]
  },
  {
   "cell_type": "markdown",
   "metadata": {},
   "source": [
    "2.2 Write a Python function which takes a character (i.e. a string of length 1) and returns True if it is a vowel, False otherwise."
   ]
  },
  {
   "cell_type": "code",
   "execution_count": 17,
   "metadata": {},
   "outputs": [
    {
     "name": "stdout",
     "output_type": "stream",
     "text": [
      "False\n",
      "True\n"
     ]
    }
   ],
   "source": [
    "def is_vowel(char): \n",
    "    return char.lower() in 'aeiou'\n",
    "\n",
    "print(is_vowel('b'))\n",
    "print(is_vowel('A'))"
   ]
  }
 ],
 "metadata": {
  "kernelspec": {
   "display_name": "Python 3",
   "language": "python",
   "name": "python3"
  },
  "language_info": {
   "codemirror_mode": {
    "name": "ipython",
    "version": 3
   },
   "file_extension": ".py",
   "mimetype": "text/x-python",
   "name": "python",
   "nbconvert_exporter": "python",
   "pygments_lexer": "ipython3",
   "version": "3.7.4"
  }
 },
 "nbformat": 4,
 "nbformat_minor": 2
}
