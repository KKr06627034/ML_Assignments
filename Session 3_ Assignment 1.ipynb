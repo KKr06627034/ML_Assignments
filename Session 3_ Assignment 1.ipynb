{
 "cells": [
  {
   "cell_type": "markdown",
   "metadata": {},
   "source": [
    "# Task 1"
   ]
  },
  {
   "cell_type": "markdown",
   "metadata": {},
   "source": [
    "1. Write a function to compute 5/0 and use try/except to catch the exceptions."
   ]
  },
  {
   "cell_type": "code",
   "execution_count": 1,
   "metadata": {},
   "outputs": [
    {
     "name": "stdout",
     "output_type": "stream",
     "text": [
      "Division by Zero!\n"
     ]
    }
   ],
   "source": [
    "def division(): \n",
    "    return 5/0\n",
    "\n",
    "try:\n",
    "    division()\n",
    "\n",
    "except ZeroDivisionError:\n",
    "    print('Division by Zero!')\n",
    "\n",
    "except:\n",
    "    print('Caught an exception')\n",
    "    "
   ]
  },
  {
   "cell_type": "markdown",
   "metadata": {},
   "source": [
    "2. Implement a Python program to generate all sentences where subject is in [\"Americans\", \"Indians\"] and verb is in [\"Play\", \"watch\"] and the object is in [\"Baseball\",\"cricket\"].\n",
    "<br /> \n",
    "<br /> \n",
    "Hint: Subject,Verb and Object should be declared in the program as shown below.\n",
    "<br /> \n",
    "<br /> \n",
    "subjects=[\"Americans \",\"Indians\"]\n",
    "<br /> \n",
    "verbs=[\"play\",\"watch\"]\n",
    "<br /> \n",
    "objects=[\"Baseball\",\"Cricket\"]\n",
    "<br /> \n",
    "<br /> \n",
    "Output should come as below:\n",
    "<br /> \n",
    "<br /> \n",
    "Americans play Baseball.\n",
    "<br /> \n",
    "Americans play Cricket.\n",
    "<br /> \n",
    "Americans watch Baseball.\n",
    "<br /> \n",
    "Americans watch Cricket.\n",
    "<br /> \n",
    "Indians play Baseball.\n",
    "<br /> \n",
    "Indians play Cricket.\n",
    "<br /> \n",
    "Indians watch Baseball.\n",
    "<br /> \n",
    "Indians watch Cricket.\n",
    "<br /> "
   ]
  },
  {
   "cell_type": "code",
   "execution_count": 2,
   "metadata": {},
   "outputs": [
    {
     "name": "stdout",
     "output_type": "stream",
     "text": [
      "Americans play Baseball.\n",
      "Americans play Cricket.\n",
      "Americans watch Baseball.\n",
      "Americans watch Cricket.\n",
      "Indians play Baseball.\n",
      "Indians play Cricket.\n",
      "Indians watch Baseball.\n",
      "Indians watch Cricket.\n"
     ]
    }
   ],
   "source": [
    "subjects=[\"Americans\",\"Indians\"]\n",
    "verbs=[\"play\",\"watch\"]\n",
    "objects=[\"Baseball\",\"Cricket\"]\n",
    "\n",
    "sentence_list = [(sub +\" \"+ vb +\" \"+ ob +\".\") for sub in subjects for vb in verbs for ob in objects]\n",
    "for sentence in sentence_list:\n",
    " print (sentence)"
   ]
  },
  {
   "cell_type": "markdown",
   "metadata": {},
   "source": [
    "# Task 2"
   ]
  },
  {
   "cell_type": "markdown",
   "metadata": {},
   "source": [
    "1. Write a function so that the columns of the output matrix are powers of the input vector. \n",
    "<br />\n",
    "<br />\n",
    "The order of the powers is determined by the increasing boolean argument. Specifically, when increasing is False, the i-th output column is the input vector raised element-wise to the power of N - i - 1.\n",
    "<br />\n",
    "<br />\n",
    "HINT: Such a matrix with a geometric progression in each row is named for Alexandre- Theophile Vandermonde."
   ]
  },
  {
   "cell_type": "code",
   "execution_count": 3,
   "metadata": {},
   "outputs": [],
   "source": [
    "import numpy as np\n",
    "from numpy.core.numeric import multiply\n",
    "def A (x, N=None, increasing=False):\n",
    "    x = np.array(x)\n",
    "    if N is None:\n",
    "        N = len(x)\n",
    "    v = np.column_stack([x**(N-1-i) for i in range(N)])\n",
    "    tmp = v[:, ::-1] if not increasing else v\n",
    "    if N > 0:\n",
    "        tmp[:, 0] = 1\n",
    "    if N > 1:\n",
    "        tmp[:, 1:] = x[:, None]\n",
    "        multiply.accumulate(tmp[:, 1:], out=tmp[:, 1:], axis=1)\n",
    "    return v"
   ]
  },
  {
   "cell_type": "code",
   "execution_count": 4,
   "metadata": {},
   "outputs": [
    {
     "data": {
      "text/plain": [
       "array([[   1,    1,    1,    1,    1,    1],\n",
       "       [   1,    2,    4,    8,   16,   32],\n",
       "       [   1,    3,    9,   27,   81,  243],\n",
       "       [   1,    4,   16,   64,  256, 1024],\n",
       "       [   1,    5,   25,  125,  625, 3125],\n",
       "       [   1,    6,   36,  216, 1296, 7776]], dtype=int32)"
      ]
     },
     "execution_count": 4,
     "metadata": {},
     "output_type": "execute_result"
    }
   ],
   "source": [
    "x = [1,2,3,4,5,6]\n",
    "A (x, N=None, increasing=True)"
   ]
  }
 ],
 "metadata": {
  "kernelspec": {
   "display_name": "Python 3",
   "language": "python",
   "name": "python3"
  },
  "language_info": {
   "codemirror_mode": {
    "name": "ipython",
    "version": 3
   },
   "file_extension": ".py",
   "mimetype": "text/x-python",
   "name": "python",
   "nbconvert_exporter": "python",
   "pygments_lexer": "ipython3",
   "version": "3.7.4"
  }
 },
 "nbformat": 4,
 "nbformat_minor": 2
}
