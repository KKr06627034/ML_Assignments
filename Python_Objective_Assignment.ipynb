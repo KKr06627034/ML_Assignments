{
 "cells": [
  {
   "cell_type": "markdown",
   "metadata": {},
   "source": [
    "### Answers"
   ]
  },
  {
   "cell_type": "markdown",
   "metadata": {},
   "source": [
    "1.\tA\n",
    "2.\tB\n",
    "3.\tB\n",
    "4.\tA"
   ]
  },
  {
   "cell_type": "code",
   "execution_count": 1,
   "metadata": {},
   "outputs": [
    {
     "name": "stdout",
     "output_type": "stream",
     "text": [
      "50\n"
     ]
    }
   ],
   "source": [
    "# 5. D\n",
    "def Foo(n): \n",
    "    def multiplier(x): \n",
    "        return x * n \n",
    "    return multiplier \n",
    "a = Foo(5) \n",
    "b = Foo(5) \n",
    "\n",
    "print(a(b(2)))"
   ]
  },
  {
   "cell_type": "markdown",
   "metadata": {},
   "source": [
    "6.\tC\n",
    "7.\tD\n",
    "8.\tB\n",
    "9.\tD\n",
    "10.\tB\n",
    "11.\tC\n",
    "12.\tA\n",
    "13.\tC\n",
    "14.\tB\n",
    "15.\tB\n",
    "16.\tC\n",
    "17.\tB\n",
    "18.\tD\n",
    "19.\tB\n",
    "20.\tC\n",
    "21.\tB\n",
    "22.\tD\n",
    "23.\tD\n",
    "24.\tC\n",
    "25.\tA\n",
    "26.\tC\n",
    "27.\tB\n",
    "28.\tC\n",
    "29.\tB\n",
    "30.\tC\n",
    "31.\tB\n",
    "32.\tB\n",
    "33.\tB\n",
    "34.\tB\n",
    "35.\tC"
   ]
  },
  {
   "cell_type": "code",
   "execution_count": 2,
   "metadata": {},
   "outputs": [
    {
     "name": "stdout",
     "output_type": "stream",
     "text": [
      "10\n"
     ]
    }
   ],
   "source": [
    "# 36. A\n",
    "def Foo(x): \n",
    "    if (x==1): \n",
    "        return 1 \n",
    "    else:\n",
    "        return x+Foo(x-1) \n",
    "    \n",
    "print(Foo(4))"
   ]
  },
  {
   "cell_type": "markdown",
   "metadata": {},
   "source": [
    "#### Recursion\n",
    "foo(1) -> 1\n",
    "<br />\n",
    "foo(2) -> 2 + foo(1) -> 2 + 1 -> 3\n",
    "<br />\n",
    "foo(3) -> 3 + foo(2) -> 3 + 3 -> 6\n",
    "<br />\n",
    "foo(4) -> 4 * foo(3) -> 4 + 6 -> 10\n",
    "#### Or\n",
    "foo(4)\n",
    "<br />\n",
    "- calls foo(4 - 1) → foo(3)\n",
    "    - calls foo(3 - 1) → foo(2)\n",
    "        - calls foo(2 - 1) → foo(1)\n",
    "          - returns 1\n",
    "        - returns 2 + foo(2 - 1) → 3\n",
    "    - returns 3 + foo(3 - 1) → 6\n",
    "- returns 4 + foo(4 - 1) → 10"
   ]
  },
  {
   "cell_type": "markdown",
   "metadata": {},
   "source": [
    "37.\tC\n",
    "38.\tA\n",
    "39.\tB\n",
    "40.\tC\n",
    "41.\tA\n",
    "42.\tA\n",
    "43.\tC\n",
    "44.\tB\n",
    "45.\tC\n",
    "46.\tB\n",
    "47.\tD"
   ]
  },
  {
   "cell_type": "code",
   "execution_count": 3,
   "metadata": {},
   "outputs": [
    {
     "name": "stdout",
     "output_type": "stream",
     "text": [
      "PYTHON"
     ]
    }
   ],
   "source": [
    "# 48. A\n",
    "for char in 'PYTHON STRING': \n",
    "    if char == ' ': \n",
    "        break\n",
    "    print(char, end='')    \n",
    "    if char == 'O':\n",
    "        continue"
   ]
  },
  {
   "cell_type": "markdown",
   "metadata": {},
   "source": [
    "49.\tC\n",
    "50.\tC\n",
    "51.\tA\n",
    "52.\tB\n",
    "53.\tB\n",
    "54.\tC\n",
    "55.\tC\n",
    "56.\tA\n",
    "57.\tB\n",
    "58.\tThe question pdf got no options to choose, this is the answer to this question: animals/feline\n",
    "59.\tThe question pdf got no options to choose, this is the answer to this question: open('jack_russell.png', 'rb')\n",
    "60.\tThe question pdf got no options to choose, this is the answer to this question: animals/ursine/bears.gif\n",
    "61.\tD\n",
    "62.\tThe question pdf got no options to choose, this is the answer to this question: ../ursine/bears.gif \n",
    "63.\tB\n",
    "64.\tA\n",
    "65.\tB\n",
    "66.\tB\n",
    "67.\tA\n",
    "68.\tD\n",
    "69.\tA\n",
    "70.\tA\n",
    "71.\tC\n",
    "72.\tB\n",
    "73.\tA\n",
    "74.\tD\n",
    "75.\tB\n",
    "76.\tA\n",
    "77.\tA\n",
    "78.\tD\n",
    "79.\tB\n",
    "80.\tD\n",
    "81.\tC\n",
    "82.\tA\n",
    "83.\tA\n",
    "84.\tC\n",
    "85.\tD\n",
    "86.\tA\n",
    "87.\tB\n",
    "88.\tD\n",
    "89.\tC\n",
    "90.\tC\n",
    "91.\tB\n",
    "92.\tC\n",
    "93.\tD\n",
    "94.\tD\n",
    "95.\tB\n",
    "96.\tD\n",
    "97.\tC\n",
    "98.\tC\n",
    "99.\tB\n",
    "100.\tA\n",
    "101.\tC\n",
    "102.\tA\n",
    "103.\tA\n",
    "104.\tD\n",
    "105.\tB\n",
    "106.\tA\n",
    "107.\tA\n",
    "108.\tB\n",
    "109.\tA\n",
    "110.\tD\n",
    "111.\tC\n",
    "112.\tB\n",
    "113.\tA\n",
    "114.\tB\n",
    "115.\tC\n",
    "116.\tB\n",
    "117.\tB\n",
    "118.\tC\n",
    "119.\tA\n",
    "120.\tA\n",
    "121.\tC\n",
    "122.\tD\n",
    "123.\tA\n",
    "124.\tA\n",
    "125.\tC\n",
    "126.\tA\n",
    "127.\tB\n",
    "128.\tC\n",
    "129.\tA\n",
    "130.\tA\n",
    "131.\tA\n",
    "132.\tA\n",
    "133.\tA\n",
    "134.\tA\n",
    "135.\tC\n",
    "136.\tB\n",
    "137.\tB\n",
    "138.\tA\n",
    "139.\tB\n",
    "140.\tA\n",
    "141.\tB\n",
    "142.\tD\n",
    "143.\tD\n",
    "144.\tA\n",
    "145.\tA\n",
    "146.\tA\n",
    "147.\tB\n",
    "148.\tA\n",
    "149.\tB\n",
    "150.\tA\n"
   ]
  }
 ],
 "metadata": {
  "kernelspec": {
   "display_name": "Python 3",
   "language": "python",
   "name": "python3"
  },
  "language_info": {
   "codemirror_mode": {
    "name": "ipython",
    "version": 3
   },
   "file_extension": ".py",
   "mimetype": "text/x-python",
   "name": "python",
   "nbconvert_exporter": "python",
   "pygments_lexer": "ipython3",
   "version": "3.7.4"
  }
 },
 "nbformat": 4,
 "nbformat_minor": 2
}
